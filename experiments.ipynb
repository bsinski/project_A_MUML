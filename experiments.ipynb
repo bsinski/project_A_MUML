{
 "cells": [
  {
   "cell_type": "code",
   "execution_count": 132,
   "metadata": {},
   "outputs": [],
   "source": [
    "import pandas as pd\n",
    "import numpy as np\n",
    "import matplotlib.pyplot as plt\n",
    "from scipy.stats import norm\n",
    "from scipy.stats import chi2\n",
    "from sklearn.preprocessing import KBinsDiscretizer\n",
    "from sklearn.ensemble import RandomForestClassifier\n",
    "from sklearn.preprocessing import LabelEncoder\n",
    "import warnings\n",
    "from ucimlrepo import fetch_ucirepo \n",
    "warnings.filterwarnings(\"ignore\")\n",
    "from implementation import *\n",
    "from sklearn.metrics import f1_score\n",
    "from sklearn.metrics import roc_auc_score\n",
    "from sklearn.metrics import accuracy_score\n",
    "from sklearn.model_selection import train_test_split\n"
   ]
  },
  {
   "cell_type": "markdown",
   "metadata": {},
   "source": [
    "# Eperiments on artificial data set"
   ]
  },
  {
   "cell_type": "code",
   "execution_count": 4,
   "metadata": {},
   "outputs": [],
   "source": [
    "def generate_data(n,p,k):\n",
    "    X = norm.rvs(size=(n,p))\n",
    "    decision = chi2.median(df=k,loc=0.5)\n",
    "    Y = np.zeros(n)\n",
    "    for i in range(n):\n",
    "        if sum(X[i,:k]**2) > decision:\n",
    "            Y[i] = 1\n",
    "        else:\n",
    "            Y[i] = 0\n",
    "    X= KBinsDiscretizer(n_bins=10, encode='ordinal', strategy='uniform').fit_transform(X)\n",
    "    return X,Y \n"
   ]
  },
  {
   "cell_type": "code",
   "execution_count": 5,
   "metadata": {},
   "outputs": [],
   "source": [
    "X,Y = generate_data(500,10,5)"
   ]
  },
  {
   "cell_type": "code",
   "execution_count": 144,
   "metadata": {},
   "outputs": [],
   "source": [
    "def perform_experiment_artificial(L,n,p,k):\n",
    "    odds = np.zeros((L,4)) \n",
    "    for i in range(L):\n",
    "        print(i)\n",
    "        X,Y = generate_data(n,p,k)\n",
    "        odds[i,0] = (forward_selection_jmi(X,Y,k) < k).sum()/k\n",
    "        odds[i,1] = (forward_selection_cife(X,Y,k) < k).sum()/k\n",
    "        odds[i,2] = (rfc_selection(X,Y,k) < k).sum()/k\n",
    "        odds[i,3] = (boruta_selection(X,Y) < k).sum()/k \n",
    "    return odds"
   ]
  },
  {
   "cell_type": "code",
   "execution_count": null,
   "metadata": {},
   "outputs": [],
   "source": [
    "#Test different n values\n",
    "#For L=20\n",
    "L=20\n",
    "n_values = [50,100,300,500,800]\n",
    "methods = ['JMI','CIFE','RFC Variable Importance','Boruta']\n",
    "probas = [perform_experiment_artificial(L,n,50,10) for n in n_values]\n",
    "fig ,ax = plt.subplots(ncols=4,figsize=(20,5))\n",
    "for i in range(2):\n",
    "    ax[i].boxplot([probas_val[:,i] for probas_val in probas])\n",
    "    ax[i].set_xticklabels(n_values)\n",
    "    ax[i].set_ylabel('Probabilities of correct ordering')\n",
    "    ax[i].set_xlabel('n')\n",
    "    ax[i].set_title(f'Method: {methods[i]}')\n",
    "plt.show()"
   ]
  },
  {
   "cell_type": "code",
   "execution_count": null,
   "metadata": {},
   "outputs": [],
   "source": [
    "#Test different p values\n",
    "p_values = [15,30,50]\n",
    "probas2 = [perform_experiment_artificial(20,500,p,10) for p in p_values]\n",
    "fig ,ax = plt.subplots(ncols=4,figsize=(20,5))\n",
    "for i in range(2):\n",
    "    ax[i].boxplot([probas_val[:,i] for probas_val in probas])\n",
    "    ax[i].set_xticklabels(n_values)\n",
    "    ax[i].set_ylabel('Probabilities of correct ordering')\n",
    "    ax[i].set_xlabel('n')\n",
    "    ax[i].set_title(f'Method: {methods[i]}')\n",
    "plt.show()"
   ]
  },
  {
   "cell_type": "code",
   "execution_count": null,
   "metadata": {},
   "outputs": [],
   "source": [
    "#Test different k values\n",
    "k_values = [10,20,35]\n",
    "probas3 = [perform_experiment_artificial(20,500,50,k) for k in k_values]\n",
    "fig ,ax = plt.subplots(ncols=4,figsize=(20,5))\n",
    "for i in range(2):\n",
    "    ax[i].boxplot([probas_val[:,i] for probas_val in probas])\n",
    "    ax[i].set_xticklabels(n_values)\n",
    "    ax[i].set_ylabel('Probabilities of correct ordering')\n",
    "    ax[i].set_xlabel('n')\n",
    "    ax[i].set_title(f'Method: {methods[i]}')\n",
    "plt.show()"
   ]
  },
  {
   "cell_type": "markdown",
   "metadata": {},
   "source": [
    "# Real-world datasets experiments\n"
   ]
  },
  {
   "cell_type": "code",
   "execution_count": 143,
   "metadata": {},
   "outputs": [],
   "source": [
    "def perform_experiment_real(X,Y,k_vals):\n",
    "    X_train, X_test, Y_train, Y_test = train_test_split(X,Y,test_size=0.3,random_state=42)\n",
    "    k_methods = [forward_selection_jmi,forward_selection_cife,rfc_selection]\n",
    "    rfc = RandomForestClassifier(n_estimators=100)\n",
    "    features = {}\n",
    "    binary = len(np.unique(Y)) == 2\n",
    "    rfc.fit(X_train,Y_train)\n",
    "    Y_pred = rfc.predict(X_test)\n",
    "    scores = {'accuracy_score':[],'f1_score':[],'roc_auc_score':[]}\n",
    "    scores['accuracy_score'].append(accuracy_score(Y_test,Y_pred))\n",
    "    if binary:\n",
    "        scores['f1_score'].append(f1_score(Y_test,Y_pred))\n",
    "        scores['roc_auc_score'].append(roc_auc_score(Y_test,rfc.predict_proba(X_test)[:,1]))\n",
    "    else:\n",
    "        scores['f1_score'].append(f1_score(Y_test,Y_pred,average='macro'))\n",
    "        scores['roc_auc_score'].append(roc_auc_score(Y_test,rfc.predict_proba(X_test),multi_class='ovr'))\n",
    "    results_df = pd.DataFrame(scores,index=['All Features'])\n",
    "    print(\"\\n For All Features\")\n",
    "    print(results_df)\n",
    "    for k_val in k_vals:\n",
    "        scores = {'accuracy_score':[],'f1_score':[],'roc_auc_score':[]}\n",
    "        features[k_val] = [forward_selection_jmi(X,Y,k_val),forward_selection_cife(X,Y,k_val),rfc_selection(X,Y,k_val)]\n",
    "        for i in range(len(k_methods)):\n",
    "            rfc.fit(X_train[:,features[k_val][i]],Y_train)\n",
    "            Y_pred = rfc.predict(X_test[:,features[k_val][i]])\n",
    "            scores['accuracy_score'].append(accuracy_score(Y_test,Y_pred))\n",
    "            if binary:\n",
    "                scores['f1_score'].append(f1_score(Y_test,Y_pred))\n",
    "                scores['roc_auc_score'].append(roc_auc_score(Y_test,rfc.predict_proba(X_test[:,features[k_val][i]])[:,1]))\n",
    "            else:\n",
    "                scores['f1_score'].append(f1_score(Y_test,Y_pred,average='macro'))\n",
    "                scores['roc_auc_score'].append(roc_auc_score(Y_test,rfc.predict_proba(X_test[:,features[k_val][i]]),multi_class='ovr'))\n",
    "        results_df = pd.DataFrame(scores,index=k_methods)\n",
    "        print(\"\\n For k = \",k_val)\n",
    "        print(results_df)\n",
    "    features_boruta = boruta_selection(X,Y)\n",
    "    rfc.fit(X_train[:,features_boruta],Y_train)\n",
    "    Y_pred = rfc.predict(X_test[:,features_boruta])\n",
    "    scores = {'accuracy_score':[],'f1_score':[],'roc_auc_score':[]}\n",
    "    scores['accuracy_score'].append(accuracy_score(Y_test,Y_pred))\n",
    "    if binary:\n",
    "        scores['f1_score'].append(f1_score(Y_test,Y_pred))\n",
    "        scores['roc_auc_score'].append(roc_auc_score(Y_test,rfc.predict_proba(X_test[:,features_boruta])[:,1]))\n",
    "    else:\n",
    "        scores['f1_score'].append(f1_score(Y_test,Y_pred,average='macro'))\n",
    "        scores['roc_auc_score'].append(roc_auc_score(Y_test,rfc.predict_proba(X_test[:,features_boruta]),multi_class='ovr'))\n",
    "    results_df = pd.DataFrame(scores,index=['Boruta'])\n",
    "    print(\"\\n For Boruta\")\n",
    "    print(results_df)\n",
    "    "
   ]
  },
  {
   "cell_type": "markdown",
   "metadata": {},
   "source": [
    "Breast Cancer Wisconsin"
   ]
  },
  {
   "cell_type": "code",
   "execution_count": 133,
   "metadata": {},
   "outputs": [
    {
     "name": "stdout",
     "output_type": "stream",
     "text": [
      "(569, 30)\n"
     ]
    }
   ],
   "source": [
    "breast_cancer_wisconsin_diagnostic = fetch_ucirepo(id=17) \n",
    "X_bcw = breast_cancer_wisconsin_diagnostic.data.features \n",
    "Y_bcw = breast_cancer_wisconsin_diagnostic.data.targets \n",
    "X_bcw = KBinsDiscretizer(n_bins=10, encode='ordinal', strategy='uniform').fit_transform(X_bcw)\n",
    "Y_bcw =  np.where(Y_bcw == 'M', 0, 1).flatten()\n",
    "print(X_bcw.shape)"
   ]
  },
  {
   "cell_type": "code",
   "execution_count": 134,
   "metadata": {},
   "outputs": [
    {
     "name": "stdout",
     "output_type": "stream",
     "text": [
      "\n",
      " For All Features\n",
      "              accuracy_score  f1_score  roc_auc_score\n",
      "All Features         0.97076  0.977169       0.995444\n",
      "\n",
      " For k =  5\n",
      "                         accuracy_score  f1_score  roc_auc_score\n",
      "JMI                            0.964912  0.972222       0.989785\n",
      "CIFE                           0.935673  0.949309       0.989565\n",
      "RFC Variable Importance        0.953216  0.962963       0.991917\n",
      "\n",
      " For k =  10\n",
      "                         accuracy_score  f1_score  roc_auc_score\n",
      "JMI                            0.959064  0.968037       0.994782\n",
      "CIFE                           0.959064  0.967442       0.993754\n",
      "RFC Variable Importance        0.959064  0.967742       0.988316\n",
      "\n",
      " For k =  15\n",
      "                         accuracy_score  f1_score  roc_auc_score\n",
      "JMI                            0.959064  0.968037       0.995664\n",
      "CIFE                           0.953216  0.963303       0.993901\n",
      "RFC Variable Importance        0.964912  0.972727       0.994929\n",
      "\n",
      " For Boruta\n",
      "        accuracy_score  f1_score  roc_auc_score\n",
      "Boruta         0.97076  0.977169       0.996032\n"
     ]
    }
   ],
   "source": [
    "perform_experiment_real(X_bcw,Y_bcw,[5,10,15])"
   ]
  },
  {
   "cell_type": "markdown",
   "metadata": {},
   "source": [
    "Red Wine Quality"
   ]
  },
  {
   "cell_type": "code",
   "execution_count": 135,
   "metadata": {},
   "outputs": [
    {
     "name": "stdout",
     "output_type": "stream",
     "text": [
      "(1599, 11)\n"
     ]
    }
   ],
   "source": [
    "pd_wine = pd.read_csv('data/winequality-red.csv')\n",
    "Y_wine = pd_wine['quality']\n",
    "X_wine = pd_wine.drop(columns=['quality'])\n",
    "X_wine = KBinsDiscretizer(n_bins=10, encode='ordinal', strategy='uniform').fit_transform(X_wine)\n",
    "print(X_wine.shape)"
   ]
  },
  {
   "cell_type": "code",
   "execution_count": 136,
   "metadata": {},
   "outputs": [
    {
     "name": "stdout",
     "output_type": "stream",
     "text": [
      "\n",
      " For All Features\n",
      "              accuracy_score  f1_score  roc_auc_score\n",
      "All Features        0.685417  0.390376       0.820561\n",
      "\n",
      " For k =  4\n",
      "                         accuracy_score  f1_score  roc_auc_score\n",
      "JMI                            0.572917  0.303693       0.746146\n",
      "CIFE                           0.575000  0.315595       0.754404\n",
      "RFC Variable Importance        0.566667  0.283674       0.757592\n",
      "\n",
      " For k =  6\n",
      "                         accuracy_score  f1_score  roc_auc_score\n",
      "JMI                            0.608333  0.397515       0.817667\n",
      "CIFE                           0.635417  0.375329       0.806983\n",
      "RFC Variable Importance        0.618750  0.317977       0.795188\n",
      "\n",
      " For k =  8\n",
      "                         accuracy_score  f1_score  roc_auc_score\n",
      "JMI                            0.645833  0.387671       0.833138\n",
      "CIFE                           0.643750  0.342299       0.800906\n",
      "RFC Variable Importance        0.652083  0.380667       0.821552\n",
      "\n",
      " For Boruta\n",
      "        accuracy_score  f1_score  roc_auc_score\n",
      "Boruta        0.566667  0.289165       0.733185\n"
     ]
    }
   ],
   "source": [
    "perform_experiment_real(X_wine,Y_wine,[4,6,8])"
   ]
  },
  {
   "cell_type": "markdown",
   "metadata": {},
   "source": [
    "Heart Failure"
   ]
  },
  {
   "cell_type": "code",
   "execution_count": 137,
   "metadata": {},
   "outputs": [
    {
     "name": "stdout",
     "output_type": "stream",
     "text": [
      "(918, 11)\n"
     ]
    }
   ],
   "source": [
    "pd_heart = pd.read_csv('data/heart.csv')\n",
    "X_heart = pd_heart.drop(columns=['HeartDisease'])\n",
    "le = LabelEncoder()\n",
    "heart_categorical = []\n",
    "for col in X_heart.columns:\n",
    "    if X_heart[col].dtype == 'object':\n",
    "        heart_categorical.append(col)\n",
    "        X_heart[col] = le.fit_transform(X_heart[col])\n",
    "X_heart_new_categories = KBinsDiscretizer(n_bins=10, encode='ordinal', strategy='uniform').fit_transform(X_heart.drop(columns=heart_categorical))\n",
    "X_heart = np.concatenate((X_heart_new_categories,X_heart[heart_categorical].to_numpy()),axis=1)\n",
    "Y_heart = pd_heart['HeartDisease'].to_numpy()\n",
    "print(X_heart.shape)"
   ]
  },
  {
   "cell_type": "code",
   "execution_count": 138,
   "metadata": {},
   "outputs": [
    {
     "name": "stdout",
     "output_type": "stream",
     "text": [
      "\n",
      " For All Features\n",
      "              accuracy_score  f1_score  roc_auc_score\n",
      "All Features        0.884058       0.9       0.943815\n",
      "\n",
      " For k =  4\n",
      "                         accuracy_score  f1_score  roc_auc_score\n",
      "JMI                            0.807971  0.831746       0.902221\n",
      "CIFE                           0.818841  0.845679       0.890625\n",
      "RFC Variable Importance        0.807971  0.830671       0.900479\n",
      "\n",
      " For k =  6\n",
      "                         accuracy_score  f1_score  roc_auc_score\n",
      "JMI                            0.826087  0.846154       0.912375\n",
      "CIFE                           0.800725  0.825397       0.888556\n",
      "RFC Variable Importance        0.822464  0.842444       0.910306\n",
      "\n",
      " For k =  8\n",
      "                         accuracy_score  f1_score  roc_auc_score\n",
      "JMI                            0.847826  0.867925       0.927673\n",
      "CIFE                           0.858696  0.876190       0.922501\n",
      "RFC Variable Importance        0.840580  0.860759       0.914906\n",
      "\n",
      " For Boruta\n",
      "        accuracy_score  f1_score  roc_auc_score\n",
      "Boruta        0.822464  0.842444       0.911313\n"
     ]
    }
   ],
   "source": [
    "perform_experiment_real(X_heart,Y_heart,[4,6,8])"
   ]
  },
  {
   "cell_type": "markdown",
   "metadata": {},
   "source": [
    "House Prices"
   ]
  },
  {
   "cell_type": "code",
   "execution_count": 139,
   "metadata": {},
   "outputs": [
    {
     "name": "stdout",
     "output_type": "stream",
     "text": [
      "(21613, 18)\n"
     ]
    }
   ],
   "source": [
    "df_house = pd.read_csv('data/kc_house_data.csv')\n",
    "Y_house = df_house['price'].to_numpy().reshape(-1,1)\n",
    "X_house = df_house.drop(columns=['price','id','date'])\n",
    "Y_house = KBinsDiscretizer(n_bins=5, encode='ordinal', strategy='quantile').fit_transform(Y_house).flatten()\n",
    "X_house = KBinsDiscretizer(n_bins=10, encode='ordinal', strategy='uniform').fit_transform(X_house)\n",
    "print(X_house.shape)\n"
   ]
  },
  {
   "cell_type": "code",
   "execution_count": 140,
   "metadata": {},
   "outputs": [
    {
     "name": "stdout",
     "output_type": "stream",
     "text": [
      "\n",
      " For All Features\n",
      "              accuracy_score  f1_score  roc_auc_score\n",
      "All Features        0.641888  0.640781       0.897039\n",
      "\n",
      " For k =  5\n",
      "                         accuracy_score  f1_score  roc_auc_score\n",
      "JMI                            0.615052  0.619147       0.883127\n",
      "CIFE                           0.618600  0.619693       0.879350\n",
      "RFC Variable Importance        0.591764  0.592899       0.863827\n",
      "\n",
      " For k =  10\n",
      "                         accuracy_score  f1_score  roc_auc_score\n",
      "JMI                            0.636952  0.636372       0.890066\n",
      "CIFE                           0.621221  0.620701       0.878298\n",
      "RFC Variable Importance        0.635410  0.634609       0.888956\n",
      "\n",
      " For k =  15\n",
      "                         accuracy_score  f1_score  roc_auc_score\n",
      "JMI                            0.647131  0.645683       0.896572\n",
      "CIFE                           0.629550  0.628755       0.883768\n",
      "RFC Variable Importance        0.640191  0.638771       0.894605\n",
      "\n",
      " For Boruta\n",
      "        accuracy_score  f1_score  roc_auc_score\n",
      "Boruta         0.62261  0.624165       0.880214\n"
     ]
    }
   ],
   "source": [
    "perform_experiment_real(X_house,Y_house,[5,10,15])"
   ]
  },
  {
   "cell_type": "markdown",
   "metadata": {},
   "source": [
    "Adult income"
   ]
  },
  {
   "cell_type": "code",
   "execution_count": 141,
   "metadata": {},
   "outputs": [
    {
     "name": "stdout",
     "output_type": "stream",
     "text": [
      "(48842, 14)\n"
     ]
    }
   ],
   "source": [
    "adult = fetch_ucirepo(id=2) \n",
    "X_adult = adult.data.features \n",
    "Y_adult = adult.data.targets\n",
    "Y_adult = np.where(Y_adult == '<=50K', 0, 1).flatten()\n",
    "le = LabelEncoder()\n",
    "adult_categorical = []\n",
    "for col in X_adult.columns:\n",
    "    if X_adult[col].dtype == 'object':\n",
    "        adult_categorical.append(col)\n",
    "        X_adult[col] = le.fit_transform(X_adult[col])\n",
    "X_adult_new_categories = KBinsDiscretizer(n_bins=10, encode='ordinal', strategy='uniform').fit_transform(X_adult.drop(columns=adult_categorical))\n",
    "X_adult = np.concatenate((X_adult_new_categories,X_adult[adult_categorical].to_numpy()),axis=1)\n",
    "print(X_adult.shape)\n"
   ]
  },
  {
   "cell_type": "code",
   "execution_count": 142,
   "metadata": {},
   "outputs": [
    {
     "name": "stdout",
     "output_type": "stream",
     "text": [
      "\n",
      " For All Features\n",
      "              accuracy_score  f1_score  roc_auc_score\n",
      "All Features         0.63905  0.618811       0.691685\n",
      "\n",
      " For k =  4\n",
      "                         accuracy_score  f1_score  roc_auc_score\n",
      "JMI                            0.643964  0.611628       0.693039\n",
      "CIFE                           0.646489  0.617712       0.701705\n",
      "RFC Variable Importance        0.625947  0.602970       0.668674\n",
      "\n",
      " For k =  6\n",
      "                         accuracy_score  f1_score  roc_auc_score\n",
      "JMI                            0.637753  0.612781       0.689032\n",
      "CIFE                           0.637480  0.615852       0.683038\n",
      "RFC Variable Importance        0.626561  0.605024       0.672669\n",
      "\n",
      " For k =  8\n",
      "                         accuracy_score  f1_score  roc_auc_score\n",
      "JMI                            0.639869  0.622829       0.683263\n",
      "CIFE                           0.633522  0.612610       0.680002\n",
      "RFC Variable Importance        0.627858  0.608908       0.673945\n",
      "\n",
      " For k =  10\n",
      "                         accuracy_score  f1_score  roc_auc_score\n",
      "JMI                            0.634205  0.614111       0.681032\n",
      "CIFE                           0.636457  0.615629       0.686730\n",
      "RFC Variable Importance        0.632498  0.612339       0.676761\n",
      "\n",
      " For Boruta\n",
      "        accuracy_score  f1_score  roc_auc_score\n",
      "Boruta        0.608067  0.577317       0.652255\n"
     ]
    }
   ],
   "source": [
    "perform_experiment_real(X_adult,Y_adult,[4,6,8,10])"
   ]
  }
 ],
 "metadata": {
  "kernelspec": {
   "display_name": "base",
   "language": "python",
   "name": "python3"
  },
  "language_info": {
   "codemirror_mode": {
    "name": "ipython",
    "version": 3
   },
   "file_extension": ".py",
   "mimetype": "text/x-python",
   "name": "python",
   "nbconvert_exporter": "python",
   "pygments_lexer": "ipython3",
   "version": "3.11.5"
  }
 },
 "nbformat": 4,
 "nbformat_minor": 2
}
